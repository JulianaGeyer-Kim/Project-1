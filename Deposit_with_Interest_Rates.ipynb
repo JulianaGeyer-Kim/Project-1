{
  "nbformat": 4,
  "nbformat_minor": 0,
  "metadata": {
    "colab": {
      "provenance": [],
      "authorship_tag": "ABX9TyNI+FVayDiwhE/T/ZTNxGMZ",
      "include_colab_link": true
    },
    "kernelspec": {
      "name": "python3",
      "display_name": "Python 3"
    },
    "language_info": {
      "name": "python"
    }
  },
  "cells": [
    {
      "cell_type": "markdown",
      "metadata": {
        "id": "view-in-github",
        "colab_type": "text"
      },
      "source": [
        "<a href=\"https://colab.research.google.com/github/JulianaGeyer-Kim/Project-1/blob/main/Deposit_with_Interest_Rates.ipynb\" target=\"_parent\"><img src=\"https://colab.research.google.com/assets/colab-badge.svg\" alt=\"Open In Colab\"/></a>"
      ]
    },
    {
      "cell_type": "code",
      "execution_count": null,
      "metadata": {
        "id": "y-1LI_XQ5Pbh"
      },
      "outputs": [],
      "source": [
        "customer_type = input('Enter customer type (n: new, e: existing): ')\n",
        "deposit = (float(input)('enter deposit amount'))\n",
        "\n",
        "if customer_type == 'e' :\n",
        "  if(deposit > 1000):\n",
        "    ir = 3.5\n",
        "\n",
        "  elif deposit > 10000:\n",
        "    ir = 3.0\n",
        "\n",
        "  else:\n",
        "   ir = 3.8\n",
        "else:\n",
        "  ir = 3.0\n",
        "\n",
        "\n",
        "total = (1+ ir/100) * deposit\n",
        "\n",
        "print(f'deposit at the end of the year: {round[total, 2]}')\n"
      ]
    }
  ]
}