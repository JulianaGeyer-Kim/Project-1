{
  "nbformat": 4,
  "nbformat_minor": 0,
  "metadata": {
    "colab": {
      "provenance": [],
      "authorship_tag": "ABX9TyNQwBbi7IdIGk4HdJcYflPh",
      "include_colab_link": true
    },
    "kernelspec": {
      "name": "python3",
      "display_name": "Python 3"
    },
    "language_info": {
      "name": "python"
    }
  },
  "cells": [
    {
      "cell_type": "markdown",
      "metadata": {
        "id": "view-in-github",
        "colab_type": "text"
      },
      "source": [
        "<a href=\"https://colab.research.google.com/github/JulianaGeyer-Kim/Project-1/blob/main/for_loop_%26_while_loop.ipynb\" target=\"_parent\"><img src=\"https://colab.research.google.com/assets/colab-badge.svg\" alt=\"Open In Colab\"/></a>"
      ]
    },
    {
      "cell_type": "code",
      "execution_count": null,
      "metadata": {
        "colab": {
          "base_uri": "https://localhost:8080/"
        },
        "id": "b5ews--gEFno",
        "outputId": "ff6c369d-0474-4566-9543-9006da442297"
      },
      "outputs": [
        {
          "output_type": "stream",
          "name": "stdout",
          "text": [
            "Hours parked:  1 Total fee =  11.25\n",
            "Hours parked:  2 Total fee =  11.25\n",
            "Hours parked:  3 Total fee =  11.25\n",
            "Hours parked:  4 Total fee =  11.25\n",
            "Hours parked:  5 Total fee =  11.25\n",
            "Hours parked:  6 Total fee =  11.25\n",
            "Hours parked:  7 Total fee =  11.25\n",
            "Hours parked:  8 Total fee =  11.25\n",
            "it is 20\n"
          ]
        }
      ],
      "source": [
        "\n",
        "\n",
        "\n",
        "baseFee = 5\n",
        "hourlyFee = 2.5\n",
        "\n",
        "for hour in range(1,9,1): # 1 is the step value because you increase in increments of 1, the end value is 1 because you start at zero (it takes 9 number to get to 8 if you start from zero)\n",
        "    totalFee = 5 + 2.5 * hourlyFee\n",
        "    print(\"Hours parked: \" , hour , \"Total fee = \" , totalFee)\n",
        "\n",
        "if totalFee < 10:\n",
        "  print(\"it is 10\")\n",
        "\n",
        "else:\n",
        "  print(\"it is 20\")\n",
        "\n",
        "\n",
        "\n"
      ]
    },
    {
      "cell_type": "markdown",
      "source": [
        "\n",
        "-difference between for loop and while loop: for loop requires you to know how many iterations need to run\n",
        "----> use the while loop when you DO NOT KNOW the number of iterations\n",
        "- while loop must have: previous statements, a condition, and an update statement\n",
        " (way to change the variable that eventually makes the condition false)\n",
        "\n",
        "\n",
        "\n"
      ],
      "metadata": {
        "id": "mT87winJXjIm"
      }
    },
    {
      "cell_type": "code",
      "source": [
        "'''\n",
        "import random\n",
        "\n",
        "\n",
        "\n",
        "\n",
        "while\n",
        "  if == \"true\"\n",
        "    break # true statement moves OUTSIDE THE LOOP\n",
        "    once the value becomes TRUE, EXIT THE LOOOOOOOOOOOOOOOOOOOOOOOOOOOP\n",
        "  condition\n",
        "\n",
        "  if == \"true\"\n",
        "    continue #keeps the part of the loop from the beginning, restarts the loop, does not continue what is outside of the loop\n",
        "  condition\n",
        "\n",
        "'''"
      ],
      "metadata": {
        "id": "UpPxwGtEgbsV"
      },
      "execution_count": null,
      "outputs": []
    },
    {
      "cell_type": "code",
      "source": [
        "\n",
        " i=1\n",
        " n=5 #establish objects first\n",
        "\n",
        " while i < n: #create while condition\n",
        "  print(i)\n",
        "\n",
        "i = i + 1 #create code that updates the variable\n"
      ],
      "metadata": {
        "id": "JpaudGdUWcgm"
      },
      "execution_count": null,
      "outputs": []
    },
    {
      "cell_type": "code",
      "source": [
        "from posixpath import normcase\n",
        "import random\n",
        "\n",
        "no = \"bored\"\n",
        "yes = \"play again\"\n",
        "\n",
        "userInput = input(\"Play the game yes or no? \")\n",
        "\n",
        "while userInput == \"y\": #condition\n",
        "\n",
        "  user_choice = input(\"Enter your choice (rock, paper, or scissors)\")\n",
        "  computer_choice = random.choice([\"rock\", \"paper\", \"scissors\"])\n",
        "  #step 1) create objects for the user and computer\n",
        "\n",
        "  #step 2) print out the choices for the user and computer using f strings\n",
        "\n",
        "  print(f\"the user chooses {user_choice}\")\n",
        "  print(f\"the computer chooses {computer_choice}\")\n",
        "\n",
        "\n",
        "  #step 3) if statement if there is a tie\n",
        "  if user_choice == computer_choice:\n",
        "    print(\"its a tie\")\n",
        "\n",
        "  #step 4) if statement if there is a tie\n",
        "  elif user_choice == \"rock\" and computer_choice == \"paper\":\n",
        "    print(\"computer wins\")\n",
        "\n",
        "  elif  (\n",
        "      (user_choice == \"rock\" and computer_choice == \"scissors\") or\n",
        "      (user_choice == \"paper\" and computer_choice == \"rock\") or\n",
        "      (user_choice == \"scissors\" and computer_choice == \"paper\")\n",
        "        ):\n",
        "    print(\"user wins!\")\n",
        "\n",
        "  else:\n",
        "    print(\"computer wins\")\n",
        "\n",
        "  userInput = input(\"Play the game yes or no? \") #this is the update\n",
        "  print(userInput)\n",
        "\n",
        "if userInput == \"no\":\n",
        "  print(no)\n"
      ],
      "metadata": {
        "colab": {
          "base_uri": "https://localhost:8080/"
        },
        "id": "QPyXTBn2Zj7j",
        "outputId": "92a1938a-7744-4aa5-d053-710b9526bfc3"
      },
      "execution_count": null,
      "outputs": [
        {
          "output_type": "stream",
          "name": "stdout",
          "text": [
            "Play the game yes or no? no\n",
            "bored\n"
          ]
        }
      ]
    },
    {
      "cell_type": "code",
      "source": [
        "down = 100000\n",
        "deposit = 10000\n",
        "cement = 5000\n",
        "\n",
        "months = 0\n",
        "\n",
        "while down > deposit:    #boolean expression, runs if the following is true or false\n",
        "  deposit = deposit + cement\n",
        "\n",
        "  months = months + 1\n",
        "\n",
        "  print(\"Deposit:  \" , deposit , \"Months:  \" , months)\n",
        "\n",
        "\n",
        "  #to calculate the number of months, aka the number of cycles this loop runs, _______"
      ],
      "metadata": {
        "colab": {
          "base_uri": "https://localhost:8080/"
        },
        "id": "8vLs0fooaTrL",
        "outputId": "62d0eb8e-b5fc-426d-cb66-1020bb5d2086"
      },
      "execution_count": null,
      "outputs": [
        {
          "output_type": "stream",
          "name": "stdout",
          "text": [
            "Deposit:   15000 Months:   1\n",
            "Deposit:   20000 Months:   2\n",
            "Deposit:   25000 Months:   3\n",
            "Deposit:   30000 Months:   4\n",
            "Deposit:   35000 Months:   5\n",
            "Deposit:   40000 Months:   6\n",
            "Deposit:   45000 Months:   7\n",
            "Deposit:   50000 Months:   8\n",
            "Deposit:   55000 Months:   9\n",
            "Deposit:   60000 Months:   10\n",
            "Deposit:   65000 Months:   11\n",
            "Deposit:   70000 Months:   12\n",
            "Deposit:   75000 Months:   13\n",
            "Deposit:   80000 Months:   14\n",
            "Deposit:   85000 Months:   15\n",
            "Deposit:   90000 Months:   16\n",
            "Deposit:   95000 Months:   17\n",
            "Deposit:   100000 Months:   18\n"
          ]
        }
      ]
    }
  ]
}