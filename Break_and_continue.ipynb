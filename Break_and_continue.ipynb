{
  "nbformat": 4,
  "nbformat_minor": 0,
  "metadata": {
    "colab": {
      "provenance": [],
      "authorship_tag": "ABX9TyOs/o7VcVtHMsexOoVN/XKn",
      "include_colab_link": true
    },
    "kernelspec": {
      "name": "python3",
      "display_name": "Python 3"
    },
    "language_info": {
      "name": "python"
    }
  },
  "cells": [
    {
      "cell_type": "markdown",
      "metadata": {
        "id": "view-in-github",
        "colab_type": "text"
      },
      "source": [
        "<a href=\"https://colab.research.google.com/github/JulianaGeyer-Kim/Project-1/blob/main/Break_and_continue.ipynb\" target=\"_parent\"><img src=\"https://colab.research.google.com/assets/colab-badge.svg\" alt=\"Open In Colab\"/></a>"
      ]
    },
    {
      "cell_type": "code",
      "execution_count": 17,
      "metadata": {
        "colab": {
          "base_uri": "https://localhost:8080/",
          "height": 429
        },
        "id": "wjIsI5Lz33MO",
        "outputId": "f9205e01-60ba-483e-a4f4-08bc5c28613e"
      },
      "outputs": [
        {
          "name": "stdout",
          "output_type": "stream",
          "text": [
            "Type break to exit\n",
            "Type true to continue\n",
            "Number 1: 1\n",
            "Number 2: 2\n",
            "Operator: /\n",
            "Result:  0.5\n",
            "the equation is: 1.0 / 2.0\n",
            "the result is: 0.5\n",
            "Type break to exit\n",
            "Type true to continue\n",
            "Number 1: continue\n"
          ]
        },
        {
          "output_type": "error",
          "ename": "ValueError",
          "evalue": "could not convert string to float: 'continue'",
          "traceback": [
            "\u001b[0;31m---------------------------------------------------------------------------\u001b[0m",
            "\u001b[0;31mValueError\u001b[0m                                Traceback (most recent call last)",
            "\u001b[0;32m<ipython-input-17-feec1c213d08>\u001b[0m in \u001b[0;36m<cell line: 16>\u001b[0;34m()\u001b[0m\n\u001b[1;32m     18\u001b[0m   \u001b[0mprint\u001b[0m\u001b[0;34m(\u001b[0m\u001b[0;34m\"Type true to continue\"\u001b[0m\u001b[0;34m)\u001b[0m\u001b[0;34m\u001b[0m\u001b[0;34m\u001b[0m\u001b[0m\n\u001b[1;32m     19\u001b[0m \u001b[0;34m\u001b[0m\u001b[0m\n\u001b[0;32m---> 20\u001b[0;31m   \u001b[0muser_choice1\u001b[0m \u001b[0;34m=\u001b[0m \u001b[0mfloat\u001b[0m\u001b[0;34m(\u001b[0m\u001b[0minput\u001b[0m\u001b[0;34m(\u001b[0m\u001b[0;34m\"Number 1: \"\u001b[0m\u001b[0;34m)\u001b[0m\u001b[0;34m)\u001b[0m\u001b[0;34m\u001b[0m\u001b[0;34m\u001b[0m\u001b[0m\n\u001b[0m\u001b[1;32m     21\u001b[0m   \u001b[0muser_choice2\u001b[0m \u001b[0;34m=\u001b[0m \u001b[0mfloat\u001b[0m\u001b[0;34m(\u001b[0m\u001b[0minput\u001b[0m\u001b[0;34m(\u001b[0m\u001b[0;34m\"Number 2: \"\u001b[0m\u001b[0;34m)\u001b[0m\u001b[0;34m)\u001b[0m\u001b[0;34m\u001b[0m\u001b[0;34m\u001b[0m\u001b[0m\n\u001b[1;32m     22\u001b[0m   \u001b[0moperator\u001b[0m \u001b[0;34m=\u001b[0m \u001b[0minput\u001b[0m\u001b[0;34m(\u001b[0m\u001b[0;34m\"Operator: \"\u001b[0m\u001b[0;34m)\u001b[0m\u001b[0;34m\u001b[0m\u001b[0;34m\u001b[0m\u001b[0m\n",
            "\u001b[0;31mValueError\u001b[0m: could not convert string to float: 'continue'"
          ]
        }
      ],
      "source": [
        "'''\n",
        "-breaks code and returns it to the first line out of the process/if statement, does not return code to the beginning\n",
        "-continue stops the code inside the if statement and moves it to the beginning\n",
        "\n",
        "BREAK SYNTAX (same with continue)\n",
        "if statement:\n",
        "  break\n",
        "statement\n",
        "\n",
        "if statement:\n",
        "  continue\n",
        "statement\n",
        "\n",
        "'''\n",
        "\n",
        "while True:\n",
        "  print(\"Type break to exit\")\n",
        "  print(\"Type true to continue\")\n",
        "\n",
        "  user_choice1 = float(input(\"Number 1: \"))\n",
        "  user_choice2 = float(input(\"Number 2: \"))\n",
        "  operator = input(\"Operator: \")\n",
        "\n",
        "\n",
        "  if operator == \"break\":\n",
        "    break\n",
        "\n",
        "  elif operator == \"true\":\n",
        "    continue\n",
        "\n",
        "  elif operator == \"+\":\n",
        "    result = user_choice1 + user_choice2\n",
        "    print(\"Result: \" , result)\n",
        "\n",
        "  elif operator == \"-\":\n",
        "   result = user_choice1 - user_choice2\n",
        "   print(\"Result: \" , result)\n",
        "\n",
        "  elif operator == \"*\":\n",
        "   result = user_choice1 * user_choice2\n",
        "   print(\"Result: \" , result)\n",
        "\n",
        "  elif operator == \"/\":\n",
        "   result = user_choice1 / user_choice2\n",
        "   print(\"Result: \" , result)\n",
        "\n",
        "  elif operator == \"//\":\n",
        "   result = user_choice1 // user_choice2\n",
        "   print(\"Result: \" , result)\n",
        "\n",
        "  elif operator == \"%\":\n",
        "   result = user_choice1 % user_choice2\n",
        "   print(\"Result: \" , result)\n",
        "\n",
        "  elif operator == \"**\":\n",
        "   result = user_choice1 ** user_choice2\n",
        "   print(\"Result: \" , result)\n",
        "\n",
        "  else:\n",
        "    print(\"no answer\")\n",
        "\n",
        "  print(f\"the equation is: {user_choice1} {operator} {user_choice2}\")\n",
        "  print(f\"the result is: {result}\")\n",
        "\n",
        "\n",
        "\n",
        "\n",
        "\n",
        "\n",
        "\n",
        "\n"
      ]
    },
    {
      "cell_type": "code",
      "source": [],
      "metadata": {
        "id": "5LdX2GcaMu6D"
      },
      "execution_count": null,
      "outputs": []
    }
  ]
}