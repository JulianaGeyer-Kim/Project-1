{
  "cells": [
    {
      "cell_type": "markdown",
      "metadata": {
        "id": "view-in-github",
        "colab_type": "text"
      },
      "source": [
        "<a href=\"https://colab.research.google.com/github/JulianaGeyer-Kim/Project-1/blob/main/Midterm_review.ipynb\" target=\"_parent\"><img src=\"https://colab.research.google.com/assets/colab-badge.svg\" alt=\"Open In Colab\"/></a>"
      ]
    },
    {
      "cell_type": "markdown",
      "metadata": {
        "id": "1lJgQkjvQPqg"
      },
      "source": [
        "The following codes covers all notes and exercises during class for Lectures 1-4"
      ]
    },
    {
      "cell_type": "markdown",
      "metadata": {
        "id": "y4MtmFvKwwko"
      },
      "source": [
        "Dictionaries are data structures that store values in keys, which are unique and immutable. Dictionaries are mutable. Values are mutable or immutable, they can store anything. The placement of the {} does not matter. See the following 2 dictionaries below with the different placeholders.\n",
        "\n",
        "del: funtion used to delete key and value from the dictionary\n",
        "\n",
        ".keys()\n",
        ".values()\n",
        ".items()\n",
        "\n",
        "-when using an f-string with dictionaries, reference the name of the dictionary with the key in the format dictName[key]"
      ]
    },
    {
      "cell_type": "code",
      "execution_count": null,
      "metadata": {
        "colab": {
          "base_uri": "https://localhost:8080/"
        },
        "id": "M7tZusfHwVqz",
        "outputId": "686c0f26-0c5c-4596-ef38-92ee15be98e0"
      },
      "outputs": [
        {
          "name": "stdout",
          "output_type": "stream",
          "text": [
            "{'Alice': 100, 'Bob': 88, 'Tracy': 93, 'Erik': 90}\n",
            "{'Bob': 88, 'Tracy': 93, 'Erik': 90}\n",
            "Bob\n",
            "Tracy\n",
            "Erik\n",
            "88\n",
            "93\n",
            "90\n",
            "('Bob', 88)\n",
            "('Tracy', 93)\n",
            "('Erik', 90)\n"
          ]
        }
      ],
      "source": [
        "grades = {\n",
        "    'Alice' : 91,\n",
        "    'Bob': 88,\n",
        "    'Tracy': 93,\n",
        "    'Erik': 90\n",
        "    #keys are immutable and unique, duplicate keys do not exist\n",
        "          }\n",
        "\n",
        "grades = {\n",
        "    'Alice' : 91,\n",
        "    'Bob': 88,\n",
        "    'Tracy': 93,\n",
        "    'Erik': 90\n",
        " }\n",
        "\n",
        "grades[\"Alice\"] = 100 #this changes value in dictionary using the key\n",
        "print(grades)\n",
        "\n",
        "del grades ['Alice']\n",
        "print(grades)\n",
        "\n",
        "\n",
        "for key in grades.keys():\n",
        "  print(key)\n",
        "\n",
        "for value in grades.values():\n",
        "  print(value)\n",
        "\n",
        "for item in grades.items():\n",
        "  print(item)"
      ]
    },
    {
      "cell_type": "markdown",
      "metadata": {
        "id": "yUL7-uxWIAep"
      },
      "source": [
        "Lists are mutable. They are composed of items of any type (int, float, string)\n",
        "\n",
        "The methods below can also be used for dictionaries and tuples:\n",
        "-len() output is the length of the list\n",
        "-.sort() sorts the list in ascending order\n",
        "-you can also add an item to the list\n",
        "-.append([])\n",
        "-.extend([])\n",
        "-.pop()"
      ]
    },
    {
      "cell_type": "code",
      "execution_count": null,
      "metadata": {
        "colab": {
          "base_uri": "https://localhost:8080/"
        },
        "id": "SSkhCpXrIABL",
        "outputId": "bc97e90e-41c4-42ab-efc1-1ff7f2fe6b4b"
      },
      "outputs": [
        {
          "name": "stdout",
          "output_type": "stream",
          "text": [
            "['hadabobo', 'dog', 5, 6.0]\n",
            "[2, 4, 66, 78, 2345]\n",
            "[2345, 78, 66, 4, 2]\n",
            "My favorite color blue, my favorite number 5\n"
          ]
        }
      ],
      "source": [
        "L1 = ['hadabobo', \"dog\", 5, 6.0]\n",
        "len(L1)\n",
        "print(L1)\n",
        "\n",
        "L2 = [2345,66,2,78,4]\n",
        "L2.sort()\n",
        "print(L2)\n",
        "L2.sort(reverse = True)\n",
        "print(L2)\n",
        "\n",
        "L2 + [\"rara\"]\n",
        "\n",
        "color = \"blue\"\n",
        "number = 5\n",
        "\n",
        "print('My favorite color {}, my favorite number {}'.format(color,number))"
      ]
    },
    {
      "cell_type": "code",
      "execution_count": null,
      "metadata": {
        "colab": {
          "base_uri": "https://localhost:8080/"
        },
        "id": "u0do4VZ4KiDW",
        "outputId": "013f4396-1df3-404a-9e6d-394cac95ff9c"
      },
      "outputs": [
        {
          "name": "stdout",
          "output_type": "stream",
          "text": [
            "[1, 2, 3, 'rata', ['awesome', 9]]\n",
            "[1, 2, 4]\n"
          ]
        }
      ],
      "source": [
        "list = [1,2,3,\"rata\"]\n",
        "list2 = [1,2,3,\"rata\"]\n",
        "\n",
        "list.append([\"awesome\", 9])\n",
        "\n",
        "\n",
        "list2.extend([\"awesome\", 9])\n",
        "print(list)\n",
        "\n",
        "list3 = [1,2,4,5]\n",
        "list3.pop()\n",
        "print(list3)"
      ]
    },
    {
      "cell_type": "code",
      "execution_count": null,
      "metadata": {
        "colab": {
          "base_uri": "https://localhost:8080/"
        },
        "id": "rSvq72ORy6BE",
        "outputId": "557b5d14-12d8-4b28-d880-b00c78c40f01"
      },
      "outputs": [
        {
          "name": "stdout",
          "output_type": "stream",
          "text": [
            "The first month in a year is Jan, the second month is Feb, and the third month is March\n"
          ]
        }
      ],
      "source": [
        "#use f strings to print out the day associated with the month. Make float the key\n",
        "\n",
        "date = {\n",
        "1.0 : \"Jan\",\n",
        "2.0 : \"Feb\",\n",
        "3.0 : \"March\"\n",
        "\n",
        "}\n",
        "\n",
        "date\n",
        "\n",
        "date = {1: 'Jan', 2: 'Feb', 3: 'March' }\n",
        "date\n",
        "\n",
        "print(f'The first month in a year is {date[1]}, the second month is {date[2]}, and the third month is {date[3]}')\n"
      ]
    },
    {
      "cell_type": "markdown",
      "metadata": {
        "id": "OIaJYJ4oC6I9"
      },
      "source": [
        "ITERATIONS:\n",
        "FOR LOOP VS WHILE LOOP: for loops have definite amount of times they run through, while loops can be infinite. There are not set amounts of iterations"
      ]
    },
    {
      "cell_type": "markdown",
      "metadata": {
        "id": "oShGPYYNAcq3"
      },
      "source": [
        "Task: create a **FOR LOOP** that has a basefee and an hourly fee. The basefee is 5 and the hourly is 11.25. use in range(1,9,1) and make totalfee equal to 5 + 2.5 * hourlyfee\n",
        "\n",
        "if totalfee is less than 10, print \"it is 10\"\n",
        "if it is not less than 10, print \"it is 20\"\n",
        "\n",
        "print hours parked and totalfee\n",
        "\n",
        "\n",
        "```\n",
        "# This is formatted as code\n",
        "```\n",
        "\n"
      ]
    },
    {
      "cell_type": "code",
      "execution_count": null,
      "metadata": {
        "colab": {
          "base_uri": "https://localhost:8080/"
        },
        "id": "a7b-0w3cBH10",
        "outputId": "e4bedd97-7108-415f-b9b4-f10f01183848"
      },
      "outputs": [
        {
          "name": "stdout",
          "output_type": "stream",
          "text": [
            "hourly fee is 11.25 and the total fee is 33.125\n",
            "hourly fee is 11.25 and the total fee is 33.125\n",
            "hourly fee is 11.25 and the total fee is 33.125\n",
            "hourly fee is 11.25 and the total fee is 33.125\n",
            "hourly fee is 11.25 and the total fee is 33.125\n",
            "hourly fee is 11.25 and the total fee is 33.125\n",
            "hourly fee is 11.25 and the total fee is 33.125\n",
            "hourly fee is 11.25 and the total fee is 33.125\n",
            "it is 20\n"
          ]
        }
      ],
      "source": [
        "baseFee = 5\n",
        "hourlyFee = 11.25\n",
        "\n",
        "for answer in range(1,9,1):\n",
        "  totalFee = 5 + 2.5 * hourlyFee\n",
        "  print(f'hourly fee is {hourlyFee} and the total fee is {totalFee}')\n",
        "\n",
        "if totalFee < 10:\n",
        "  print('it is 10')\n",
        "\n",
        "else:\n",
        "  print('it is 20')\n",
        "\n"
      ]
    },
    {
      "cell_type": "code",
      "execution_count": 1,
      "metadata": {
        "colab": {
          "base_uri": "https://localhost:8080/",
          "height": 89
        },
        "id": "-opgcC2oB2Fm",
        "outputId": "eba71f46-fdfd-4639-a094-be6aa9767ead"
      },
      "outputs": [
        {
          "output_type": "stream",
          "name": "stdout",
          "text": [
            "2\n",
            "3\n"
          ]
        },
        {
          "output_type": "execute_result",
          "data": {
            "text/plain": [
              "'\\nFIRST LOOP:\\n1 <= 2 --true\\nx = 1 + 1 = 2 --this is the new x used in the second loop\\nprint 2\\n\\nSECOND LOOP:\\n2 <= 2\\nTRUE\\nx = 2 + 1 = 3 --new x used in third loop\\nprint 3\\n\\nTHIRD LOOP:\\n3 <= 2\\nFALSE\\ndo not print x\\n\\n'"
            ],
            "application/vnd.google.colaboratory.intrinsic+json": {
              "type": "string"
            }
          },
          "metadata": {},
          "execution_count": 1
        }
      ],
      "source": [
        "x = 1\n",
        "y = 2\n",
        "\n",
        "while x <= y:\n",
        "  x = x + 1\n",
        "  print(x)\n",
        "'''\n",
        "FIRST LOOP:\n",
        "1 <= 2 --true\n",
        "x = 1 + 1 = 2 --this is the new x used in the second loop\n",
        "print 2\n",
        "\n",
        "SECOND LOOP:\n",
        "2 <= 2\n",
        "TRUE\n",
        "x = 2 + 1 = 3 --new x used in third loop\n",
        "print 3\n",
        "\n",
        "THIRD LOOP:\n",
        "3 <= 2\n",
        "FALSE\n",
        "do not print x\n",
        "\n",
        "'''"
      ]
    },
    {
      "cell_type": "markdown",
      "metadata": {
        "id": "HN--QP9RESRX"
      },
      "source": [
        "Using conditionals, create a rock, paper, scissors exercise.\n",
        "\n",
        "-random.choice only works when there is an import random at the top. input the choices with ([]) format"
      ]
    },
    {
      "cell_type": "code",
      "execution_count": null,
      "metadata": {
        "colab": {
          "base_uri": "https://localhost:8080/"
        },
        "id": "yy8qdIf7ErDv",
        "outputId": "98238719-7914-44d4-f03a-54b40c60ff9f"
      },
      "outputs": [
        {
          "name": "stdout",
          "output_type": "stream",
          "text": [
            "[2, 3, 4]\n"
          ]
        }
      ],
      "source": [
        "L + ['three', 9.99, 0] #concatenation, this creates a new list\n",
        "\n",
        "s = \"bree\"\n",
        "#s[0] = 'k' #returns error because strings are immutalbe\n",
        "\n",
        "A = [1,2,3,4]\n",
        "B = [1,2,7,8]\n",
        "for item in A:\n",
        "  if item in B:\n",
        "    A.remove(item)\n",
        "print(A)\n",
        "#only runs once, does not continue forever"
      ]
    },
    {
      "cell_type": "code",
      "execution_count": null,
      "metadata": {
        "colab": {
          "base_uri": "https://localhost:8080/",
          "height": 120
        },
        "id": "-7nHtbnVTcLU",
        "outputId": "3e11b184-5cf8-4a50-873b-3a98001b5f47"
      },
      "outputs": [
        {
          "name": "stdout",
          "output_type": "stream",
          "text": [
            "6\n",
            "abcd \n",
            "abcdef\n"
          ]
        },
        {
          "data": {
            "application/vnd.google.colaboratory.intrinsic+json": {
              "type": "string"
            },
            "text/plain": [
              "\"IMPORTANT\\nyou can only multiply a string with integers, not floats, boolean, etc...\\n\\nstrings are immutable\\n\\nwhen adding string together or multiplying an integer by a string, the result is a new string, unrelated to the previous strings\\n\\n\\nyou can't add string with non-string objects\\n\\n\""
            ]
          },
          "execution_count": 91,
          "metadata": {},
          "output_type": "execute_result"
        }
      ],
      "source": [
        "\n",
        "s = \"abcdef\"\n",
        "len(s) #this calculates the number of characters within the string, aka 7\n",
        "print(len(s))\n",
        "\n",
        "s[3] #indexing\n",
        "\n",
        "this_word = s[: 4] #when start value is missing, the start value is impplied to be zero\n",
        "\n",
        "#this_word = s[0 : 4]\n",
        "\n",
        "test_word = s[10:14] #14 doesnt exist technically, WHEN SLICING, THE END IS THE DEFAULT LENGTH OF THE STRING\n",
        "#test_word = s[10:]\n",
        "\n",
        "print(this_word,test_word)\n",
        "\n",
        "s[:]\n",
        "print(s[:])\n",
        "\n",
        "s3 = 'abc'\n",
        "\n",
        "s3 * 2\n",
        "'''IMPORTANT\n",
        "you can only multiply a string with integers, not floats, boolean, etc...\n",
        "\n",
        "strings are immutable\n",
        "\n",
        "when adding string together or multiplying an integer by a string, the result is a new string, unrelated to the previous strings\n",
        "\n",
        "\n",
        "you can't add string with non-string objects\n",
        "\n",
        "'''\n",
        "\n"
      ]
    },
    {
      "cell_type": "code",
      "execution_count": null,
      "metadata": {
        "id": "_hLr6l8HU5Ol"
      },
      "outputs": [],
      "source": [
        "if x%2 == 0: # <-- first checks if x%2 equals to zero\n",
        "    if x%3 == 0: # <-- if x%2 indeed equals to zero, then checks if x%3 is also zero\n",
        "        print('Divisible by 2 and 3')\n",
        "    else:\n",
        "        print('Divisible by 2 and not by 3')\n",
        "elif x%3 == 0:\n",
        "    print('Divisible by 3 and not by 2')\n",
        "else:\n",
        "    print('Not divisible by either 2 or 3')\n"
      ]
    },
    {
      "cell_type": "code",
      "execution_count": null,
      "metadata": {
        "id": "1AS8IT7AWO-u"
      },
      "outputs": [],
      "source": [
        "a = 'abc'\n",
        "\n",
        "\"a\" in 'abc'"
      ]
    },
    {
      "cell_type": "code",
      "execution_count": null,
      "metadata": {
        "id": "t-LCpdmSXtOJ"
      },
      "outputs": [],
      "source": [
        "for i in range(5, 30): # creates a range of values\n",
        "  print(i) #assigns 5 to i in first iteration, prints 5-29 because end is exclusive"
      ]
    },
    {
      "cell_type": "code",
      "execution_count": null,
      "metadata": {
        "id": "qcoURcxUXAv5"
      },
      "outputs": [],
      "source": [
        "#the following code prints out characters that both strings have in common\n",
        "s1 = 'abcdef'\n",
        "\n",
        "s2 = 'abdrig'\n",
        "\n",
        "\n",
        "for index in range(len(s1)):\n",
        "  if(s1[index] in s2):\n",
        "   print(s1[index])\n",
        "\n",
        "#this does the same thing\n",
        "s1 = 'abcdefg'\n",
        "\n",
        "s2 = 'abdright'\n",
        "\n",
        "for char in s1[index] and s2[index]:\n",
        "   print(char)\n"
      ]
    }
  ],
  "metadata": {
    "colab": {
      "provenance": [],
      "authorship_tag": "ABX9TyNB85xqmQc8swNc2S91PE6W",
      "include_colab_link": true
    },
    "kernelspec": {
      "display_name": "Python 3",
      "name": "python3"
    },
    "language_info": {
      "name": "python"
    }
  },
  "nbformat": 4,
  "nbformat_minor": 0
}