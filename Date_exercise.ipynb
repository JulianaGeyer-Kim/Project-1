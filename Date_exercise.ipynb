{
  "nbformat": 4,
  "nbformat_minor": 0,
  "metadata": {
    "colab": {
      "provenance": [],
      "authorship_tag": "ABX9TyPyxn992PjjmKhM/woISiox",
      "include_colab_link": true
    },
    "kernelspec": {
      "name": "python3",
      "display_name": "Python 3"
    },
    "language_info": {
      "name": "python"
    }
  },
  "cells": [
    {
      "cell_type": "markdown",
      "metadata": {
        "id": "view-in-github",
        "colab_type": "text"
      },
      "source": [
        "<a href=\"https://colab.research.google.com/github/JulianaGeyer-Kim/Project-1/blob/main/Date_exercise.ipynb\" target=\"_parent\"><img src=\"https://colab.research.google.com/assets/colab-badge.svg\" alt=\"Open In Colab\"/></a>"
      ]
    },
    {
      "cell_type": "code",
      "execution_count": null,
      "metadata": {
        "id": "o-lAqPBk2rIt"
      },
      "outputs": [],
      "source": [
        "user_input = input(\"What is the date? Put in the format DD/MM/YYYY \") #user can write anything, it will still separate it using slicing regardless if it is a date or not\n",
        "\n",
        "day = user_input[:2]\n",
        "month = user_input[3:5]\n",
        "year = user_input[6:]\n",
        "\n",
        "print(day)\n",
        "print(month)\n",
        "print(year)"
      ]
    }
  ]
}