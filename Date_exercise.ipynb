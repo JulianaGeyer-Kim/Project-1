{
  "nbformat": 4,
  "nbformat_minor": 0,
  "metadata": {
    "colab": {
      "provenance": [],
      "authorship_tag": "ABX9TyMj+MFD5PAA/Jyd+qsg24il",
      "include_colab_link": true
    },
    "kernelspec": {
      "name": "python3",
      "display_name": "Python 3"
    },
    "language_info": {
      "name": "python"
    }
  },
  "cells": [
    {
      "cell_type": "markdown",
      "metadata": {
        "id": "view-in-github",
        "colab_type": "text"
      },
      "source": [
        "<a href=\"https://colab.research.google.com/github/JulianaGeyer-Kim/Project-1/blob/main/Date_exercise.ipynb\" target=\"_parent\"><img src=\"https://colab.research.google.com/assets/colab-badge.svg\" alt=\"Open In Colab\"/></a>"
      ]
    },
    {
      "cell_type": "code",
      "execution_count": null,
      "metadata": {
        "colab": {
          "base_uri": "https://localhost:8080/"
        },
        "id": "T9VqWJCyNpbe",
        "outputId": "9e1894a7-b4cc-4b1d-e959-38bb420ba322"
      },
      "outputs": [
        {
          "output_type": "stream",
          "name": "stdout",
          "text": [
            "Enter your choice (mm/dd/yyyy) =    01/12/2024\n",
            "01\n",
            "12\n",
            "2024\n"
          ]
        }
      ],
      "source": [
        "\n",
        "user_choice = input(\"Enter your choice (mm/dd/yyyy) =    \")\n",
        "\n",
        "month = user_choice[: 2]\n",
        "day = user_choice[3 : 5]\n",
        "year = user_choice[6:]\n",
        "\n",
        "len(user_choice)\n",
        "\n",
        "\n",
        "print(month)\n",
        "print(day)\n",
        "print(year)\n",
        "\n",
        "\n",
        "\n",
        "\n",
        "\n"
      ]
    }
  ]
}