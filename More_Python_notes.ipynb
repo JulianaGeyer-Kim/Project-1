{
  "nbformat": 4,
  "nbformat_minor": 0,
  "metadata": {
    "colab": {
      "provenance": [],
      "authorship_tag": "ABX9TyNw9XlHYpX8deGYyFvtVMk6",
      "include_colab_link": true
    },
    "kernelspec": {
      "name": "python3",
      "display_name": "Python 3"
    },
    "language_info": {
      "name": "python"
    }
  },
  "cells": [
    {
      "cell_type": "markdown",
      "metadata": {
        "id": "view-in-github",
        "colab_type": "text"
      },
      "source": [
        "<a href=\"https://colab.research.google.com/github/JulianaGeyer-Kim/Project-1/blob/main/More_Python_notes.ipynb\" target=\"_parent\"><img src=\"https://colab.research.google.com/assets/colab-badge.svg\" alt=\"Open In Colab\"/></a>"
      ]
    },
    {
      "cell_type": "code",
      "source": [
        "\n",
        "\n",
        "\n",
        "'''\n",
        "syntax of while loop:\n",
        "\n",
        "\n",
        "while condition\n",
        "  statement\n",
        "\n",
        "  '''"
      ],
      "metadata": {
        "id": "FN_TG9Z86iK2"
      },
      "execution_count": null,
      "outputs": []
    },
    {
      "cell_type": "code",
      "execution_count": null,
      "metadata": {
        "colab": {
          "base_uri": "https://localhost:8080/",
          "height": 140
        },
        "id": "Pj39JGP0DDti",
        "outputId": "cf417732-054e-4151-8730-16fffbd9790d"
      },
      "outputs": [
        {
          "output_type": "error",
          "ename": "SyntaxError",
          "evalue": "unterminated string literal (detected at line 29) (<ipython-input-11-6d74f1e1a1ba>, line 29)",
          "traceback": [
            "\u001b[0;36m  File \u001b[0;32m\"<ipython-input-11-6d74f1e1a1ba>\"\u001b[0;36m, line \u001b[0;32m29\u001b[0m\n\u001b[0;31m    s= p'animal\u001b[0m\n\u001b[0m        ^\u001b[0m\n\u001b[0;31mSyntaxError\u001b[0m\u001b[0;31m:\u001b[0m unterminated string literal (detected at line 29)\n"
          ]
        }
      ],
      "source": [
        "\n",
        "\n",
        "#/n skips lines, /n /n skips 2 lines\n",
        "#use print('') to print something, turns values into strings, known as type-casting\n",
        "dog = 5\n",
        "cat = 10\n",
        "print('x = ', x)\n",
        "print (' x + y = ', dog + cat)\n",
        "\n",
        "\n",
        "#.format prints non-string objects. In this case, it prints a, b, and c\n",
        "a = 15\n",
        "b = 15.3456\n",
        "c = 'Python'\n",
        "print(r'this is an integer {:d}'.format(a))\n",
        "print(r'this is a float {:f}'.format(b))\n",
        "print(r'this is a string {:s}'.format(c))\n",
        "\n",
        "#use commas when there is more than one object\n",
        "pi = 3.14\n",
        "e = 2.71\n",
        "print('The value of pi is', pi, 'and the value of Euler number is', e)\n",
        "\n",
        "\n",
        "\n",
        "#obj.method(\"hadabobo {}{}\" .format(x,y))\n",
        "#since there are 2 placeholders, which are represented by {}, there must be 2 variables in the (). This assigns objects to variables\n",
        "\n",
        "f\" {x} {y}\"\n",
        "\n",
        "s= p'animal\n",
        "a= mouse.format\n",
        "\n",
        "#input() function:\n"
      ]
    },
    {
      "cell_type": "code",
      "source": [
        "!pip install ColabTurtlePlus\n",
        "\n",
        "from ColabTurtlePlus.Turtle import *\n",
        "\n",
        "clearscreen() #clears the screen continuously\n",
        "\n",
        "color('Black', 'green')\n",
        "begin_fill()\n",
        "jumpto(0,0)\n",
        "\n",
        "\n",
        "\n",
        "for var in range(4): #this displays the for loop, which requires indents to operate. It performs what is in the loop (# times performed)\n",
        "  forward(100)\n",
        "  left(90)\n",
        "\n",
        "\n",
        "end_fill()\n",
        "\n",
        "'''\n",
        "range(start, end, step) ---> only creates int, returns sequences of integer numbers\n",
        "start of the sequence of the function range, end of the sequence, distance between values in the sequence is the step\n",
        "start by default is 0, step by default is 1!!!!!!!!!!!!!!!!!!!!!!!!!!!!!!\n",
        "\n",
        "start\n",
        "start + step\n",
        "start + 2step\n",
        ".\n",
        ".\n",
        ".\n",
        ".\n",
        "start +\n",
        "\n",
        "\n",
        "'''\n",
        "\n",
        "\n"
      ],
      "metadata": {
        "colab": {
          "base_uri": "https://localhost:8080/",
          "height": 690
        },
        "id": "Ue8O2hT-wNWs",
        "outputId": "9df92b1c-5afc-4709-b5d8-649181b2b72b"
      },
      "execution_count": null,
      "outputs": [
        {
          "output_type": "stream",
          "name": "stdout",
          "text": [
            "Requirement already satisfied: ColabTurtlePlus in /usr/local/lib/python3.10/dist-packages (2.0.1)\n"
          ]
        },
        {
          "output_type": "display_data",
          "data": {
            "text/plain": [
              "<IPython.core.display.HTML object>"
            ],
            "text/html": [
              "\n",
              "      <svg width=\"800\" height=\"600\">  \n",
              "        <rect width=\"100%\" height=\"100%\" style=\"fill:white;stroke:;stroke-width:1\"/>\n",
              "        \n",
              "        \n",
              "        <path fill-rule=\"evenodd\" fill-opacity=\"1\" d=\"M 400.0 300.0  L 400.0 300.0  L 500.0 300.0  L 500.0 200.0  L 400.0 200.0  L 400.0 300.0 \" stroke-linecap=\"round\" style=\"stroke:black;stroke-width:1\" fill=\"green\" />\n",
              "        \n",
              "        \n",
              "        <g id=\"classic\" visibility=\"visible\" transform=\"rotate(-90,400.0,300.0) translate(400.0, 300.0)\">\n",
              "<polygon points=\"-5,-4.5 0,-2.5 5,-4.5 0,4.5\" transform=\"skewX(0) scale(1,1)\" style=\"stroke:black;fill:green;stroke-width:1\" />\n",
              "</g>\n",
              "      </svg>\n",
              "    "
            ]
          },
          "metadata": {}
        },
        {
          "output_type": "execute_result",
          "data": {
            "text/plain": [
              "'\\n#range(start, end, step) ---> only creates int, returns sequences of integer numbers\\n#start of the sequence of the function range, end of the sequence, distance between values in the sequence is the step\\n#start by default is 0, step by default is 1!!!!!!!!!!!!!!!!!!!!!!!!!!!!!!\\n'"
            ],
            "application/vnd.google.colaboratory.intrinsic+json": {
              "type": "string"
            }
          },
          "metadata": {},
          "execution_count": 14
        }
      ]
    },
    {
      "cell_type": "code",
      "source": [
        "for i in range(5, 40, 10): # creates a range of values\n",
        "  print(i) #assigns 5 to i in first iteration\n",
        "\n",
        "  '''second iteration: 15----> start + step = 5 + 10 = 15\n",
        "third iteration: 15 + 10 = 25\n",
        "fourth iteration: 35\n",
        "fifth iteration: 45---> sequence has surpassed end value, ONLY up to 35 returns\n",
        "'''"
      ],
      "metadata": {
        "colab": {
          "base_uri": "https://localhost:8080/"
        },
        "id": "l3-ySat01xp0",
        "outputId": "41b12035-b5af-4b33-b704-1c9fc2056d46"
      },
      "execution_count": null,
      "outputs": [
        {
          "output_type": "stream",
          "name": "stdout",
          "text": [
            "5\n",
            "15\n",
            "25\n",
            "35\n"
          ]
        }
      ]
    },
    {
      "cell_type": "code",
      "source": [
        "for i in range(1, 13, 1):\n",
        "  print(i)\n",
        "\n",
        "\n",
        "'''\n",
        "1st: 1 + 1 = 2\n",
        "2nd: 3\n",
        "\n",
        "stops at 12 because it starts at 0.       0,1,2,3,4,5,6,7,8,9,10,11,12----> this is 13 values in total, as provided in the end value\n",
        "'''"
      ],
      "metadata": {
        "colab": {
          "base_uri": "https://localhost:8080/",
          "height": 239
        },
        "id": "BgsyycxB3S_S",
        "outputId": "6df1339f-de1b-4f9d-8c39-86416e25cb80"
      },
      "execution_count": null,
      "outputs": [
        {
          "output_type": "stream",
          "name": "stdout",
          "text": [
            "1\n",
            "2\n",
            "3\n",
            "4\n",
            "5\n",
            "6\n",
            "7\n",
            "8\n",
            "9\n",
            "10\n",
            "11\n",
            "12\n"
          ]
        },
        {
          "output_type": "execute_result",
          "data": {
            "text/plain": [
              "'\\n1st: 1 + 1 = 2\\n2nd: 3\\n\\n\\n'"
            ],
            "application/vnd.google.colaboratory.intrinsic+json": {
              "type": "string"
            }
          },
          "metadata": {},
          "execution_count": 18
        }
      ]
    },
    {
      "cell_type": "code",
      "source": [
        "for i in range(10,5,-1): #for loops must have a colon\n",
        "  print(i)\n",
        "\n",
        "\n",
        "'''\n",
        "FORMAT SYNTAX = for variable in range(sequence):\n",
        "  code block\n",
        "\n",
        "sequences and for loops: used when the number of iterations is knwon in advance, finite\n",
        "\n",
        "step value must be negative if there is a decreasing range\n",
        "\n",
        "'''"
      ],
      "metadata": {
        "colab": {
          "base_uri": "https://localhost:8080/",
          "height": 120
        },
        "id": "7K0Xq9_64N9b",
        "outputId": "a8f6419c-7617-4103-e239-24afb4d7d54f"
      },
      "execution_count": null,
      "outputs": [
        {
          "output_type": "stream",
          "name": "stdout",
          "text": [
            "10\n",
            "9\n",
            "8\n",
            "7\n",
            "6\n"
          ]
        },
        {
          "output_type": "execute_result",
          "data": {
            "text/plain": [
              "'\\nstep value must be negative if there is a decreasing range\\n\\n'"
            ],
            "application/vnd.google.colaboratory.intrinsic+json": {
              "type": "string"
            }
          },
          "metadata": {},
          "execution_count": 22
        }
      ]
    },
    {
      "cell_type": "code",
      "source": [
        "for i in range(5 , 30, 5): # creates a range of values\n",
        "  print(i) #assigns 5 to i in first iteration\n",
        "\n",
        "  '''\n",
        "  start value, end value, number of iterations\n",
        "\n",
        "\n",
        "  second iteration: 10----> start + step = 5 + 5 = 10\n",
        "third iteration: 10 + 5 = 15\n",
        "fourth iteration: 20 ---> 15 + 5\n",
        "fifth iteration: 25---> 20 + 5 sequence has surpassed end value, ONLY up to 25 returns\n",
        "\n",
        "'''"
      ],
      "metadata": {
        "colab": {
          "base_uri": "https://localhost:8080/"
        },
        "id": "YGxVyILC1z6O",
        "outputId": "2f69413b-d54a-448f-e2e4-52f7a9e1bed8"
      },
      "execution_count": null,
      "outputs": [
        {
          "output_type": "stream",
          "name": "stdout",
          "text": [
            "5\n",
            "10\n",
            "15\n",
            "20\n",
            "25\n"
          ]
        }
      ]
    },
    {
      "cell_type": "code",
      "source": [
        "for i in range(5, 30): # creates a range of values\n",
        "  print(i) #assigns 5 to i in first iteration"
      ],
      "metadata": {
        "colab": {
          "base_uri": "https://localhost:8080/"
        },
        "id": "Js4ctcVO2-mV",
        "outputId": "cfda1c8f-872f-4d3c-b585-0af5984cfb18"
      },
      "execution_count": null,
      "outputs": [
        {
          "output_type": "stream",
          "name": "stdout",
          "text": [
            "5\n",
            "6\n",
            "7\n",
            "8\n",
            "9\n",
            "10\n",
            "11\n",
            "12\n",
            "13\n",
            "14\n",
            "15\n",
            "16\n",
            "17\n",
            "18\n",
            "19\n",
            "20\n",
            "21\n",
            "22\n",
            "23\n",
            "24\n",
            "25\n",
            "26\n",
            "27\n",
            "28\n",
            "29\n"
          ]
        }
      ]
    },
    {
      "cell_type": "code",
      "source": [
        "int age:\n",
        "if (age > 25 and n_status == \"single\" or assets > 10000):\n",
        "  print(\"elligible for loan\")"
      ],
      "metadata": {
        "id": "oDCqh2ZGGNeg",
        "colab": {
          "base_uri": "https://localhost:8080/",
          "height": 191
        },
        "outputId": "99feec10-7dfb-4002-9d91-a806df21b357"
      },
      "execution_count": null,
      "outputs": [
        {
          "output_type": "error",
          "ename": "NameError",
          "evalue": "name 'age' is not defined",
          "traceback": [
            "\u001b[0;31m---------------------------------------------------------------------------\u001b[0m",
            "\u001b[0;31mNameError\u001b[0m                                 Traceback (most recent call last)",
            "\u001b[0;32m<ipython-input-2-3d567a81cd89>\u001b[0m in \u001b[0;36m<cell line: 1>\u001b[0;34m()\u001b[0m\n\u001b[0;32m----> 1\u001b[0;31m \u001b[0;32mif\u001b[0m \u001b[0;34m(\u001b[0m\u001b[0mage\u001b[0m \u001b[0;34m>\u001b[0m \u001b[0;36m25\u001b[0m \u001b[0;32mand\u001b[0m \u001b[0mn_status\u001b[0m \u001b[0;34m==\u001b[0m \u001b[0;34m\"single\"\u001b[0m \u001b[0;32mor\u001b[0m \u001b[0massets\u001b[0m \u001b[0;34m>\u001b[0m \u001b[0;36m10000\u001b[0m\u001b[0;34m)\u001b[0m\u001b[0;34m:\u001b[0m\u001b[0;34m\u001b[0m\u001b[0;34m\u001b[0m\u001b[0m\n\u001b[0m\u001b[1;32m      2\u001b[0m   \u001b[0mprint\u001b[0m\u001b[0;34m(\u001b[0m\u001b[0;34m\"elligible for loan\"\u001b[0m\u001b[0;34m)\u001b[0m\u001b[0;34m\u001b[0m\u001b[0;34m\u001b[0m\u001b[0m\n",
            "\u001b[0;31mNameError\u001b[0m: name 'age' is not defined"
          ]
        }
      ]
    },
    {
      "cell_type": "code",
      "source": [
        "#find the smallest variable\n",
        "x = 1\n",
        "y = 2\n",
        "z = 3\n",
        "\n",
        "if x > y:\n",
        "  print('it is not x')\n",
        "\n",
        "if y > z:\n",
        "  print('it is not y')\n",
        "  print('smallest variable is z')"
      ],
      "metadata": {
        "id": "lfRFnVVzG5kh"
      },
      "execution_count": null,
      "outputs": []
    },
    {
      "cell_type": "code",
      "source": [
        "answer = min(x, y, z)\n",
        "if x% 2 0:"
      ],
      "metadata": {
        "id": "GBLoXa1RHzF-"
      },
      "execution_count": null,
      "outputs": []
    }
  ]
}