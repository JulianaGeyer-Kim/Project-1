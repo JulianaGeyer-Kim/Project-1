{
  "nbformat": 4,
  "nbformat_minor": 0,
  "metadata": {
    "colab": {
      "provenance": [],
      "authorship_tag": "ABX9TyOEUtDzil4FJNzwWaXUuC3y",
      "include_colab_link": true
    },
    "kernelspec": {
      "name": "python3",
      "display_name": "Python 3"
    },
    "language_info": {
      "name": "python"
    }
  },
  "cells": [
    {
      "cell_type": "markdown",
      "metadata": {
        "id": "view-in-github",
        "colab_type": "text"
      },
      "source": [
        "<a href=\"https://colab.research.google.com/github/JulianaGeyer-Kim/Project-1/blob/main/Points_exercises.ipynb\" target=\"_parent\"><img src=\"https://colab.research.google.com/assets/colab-badge.svg\" alt=\"Open In Colab\"/></a>"
      ]
    },
    {
      "cell_type": "code",
      "execution_count": 22,
      "metadata": {
        "colab": {
          "base_uri": "https://localhost:8080/",
          "height": 71
        },
        "id": "-seMymPqYGDJ",
        "outputId": "ae466ce8-0e33-44e0-8e2b-98ee37a62816"
      },
      "outputs": [
        {
          "output_type": "stream",
          "name": "stdout",
          "text": [
            "5.0\n",
            "7.0710678118654755\n"
          ]
        },
        {
          "output_type": "execute_result",
          "data": {
            "text/plain": [
              "'the mistakes I made before:\\n1. spelling init wrong\\n2. not referencing distance correctly--> it is named get_distance instead of distance\\n\\n'"
            ],
            "application/vnd.google.colaboratory.intrinsic+json": {
              "type": "string"
            }
          },
          "metadata": {},
          "execution_count": 22
        }
      ],
      "source": [
        "class Point:\n",
        "  def __init__(self, x,y):\n",
        "    self.x = x #this, self, must be referenced again\n",
        "    self.y = y\n",
        "\n",
        "  def get_distance(self, other):\n",
        "   x_diff = (self.x - other.x)**2\n",
        "   y_diff = (self.y - other.y)**2\n",
        "   return (x_diff + y_diff) ** 0.5 #this is the same as sqrt\n",
        "\n",
        "class Point3D(Point): #this is a class within a class\n",
        " def __init__(self, x,y,z):\n",
        "  super().__init__(x,y) #you can only call the constructor of the parent once!!!! no more than 2 super().__init__ statements\n",
        "  self.z = z\n",
        "\n",
        " def get_distance(self, other):\n",
        "   x_diff = (self.x - other.x)**2\n",
        "   y_diff = (self.y - other.y)**2\n",
        "   z_diff = (self.z - other.z)**2\n",
        "   return (x_diff + y_diff + z_diff) ** 0.5 #this is the same as sqrt\n",
        "\n",
        "p1 = Point(3,4)\n",
        "p2 = Point(6,8)\n",
        "print(p1.get_distance(p2))\n",
        "p3d_1 = Point3D(3,4,5)\n",
        "p3d_2 = Point3D(6,8,10)\n",
        "print(p3d_1.get_distance(p3d_2))\n",
        "#takes instances of the same class as inputs---->OTHER parameter def __add__(self, other):\n",
        "\n",
        "\n",
        "'''the mistakes I made before:\n",
        "1. spelling init wrong\n",
        "2. not referencing distance correctly--> it is named get_distance instead of distance\n",
        "\n",
        "'''\n",
        "\n"
      ]
    },
    {
      "cell_type": "code",
      "source": [],
      "metadata": {
        "id": "M5K_71YRhMvn"
      },
      "execution_count": null,
      "outputs": []
    },
    {
      "cell_type": "markdown",
      "source": [
        "Inheritance: our class will only focus one parent one child, it only works one way, think of a family tree"
      ],
      "metadata": {
        "id": "RYIR8BWqcmTY"
      }
    },
    {
      "cell_type": "code",
      "source": [
        "#The purpose of this code is to display the concept of inheritance\n",
        "\n",
        "class Animal:\n",
        "  def __init__(self, legs):\n",
        "    self.legs = legs\n",
        "    print(\"Animal created\")\n",
        "\n",
        "  def whoAmI(self):\n",
        "    print(\"who am i?\")\n",
        "\n",
        "class Bird(Animal): #this is a class within a class\n",
        "  def __innit__(self, wings,legs):\n",
        "    self.wings = wings\n",
        "    super().__init__(legs)\n",
        "#to avoid initializing legs from scratch, call the constructor of the parent by using super().__init_(legs)\n",
        "    print(\"Bird created\")\n",
        "\n",
        "\n",
        "  def fly(self): #this defines a new method fly\n",
        "    print(\"Birds can fly\")\n",
        "    #the class Bird has 3 methods-->__init__, whoAmI, and fly\n",
        "\n",
        "a = Animal(4) #animal takes one attribute, legs\n",
        "b = Bird(2,2) #this holds 2 attrivutes, wings and legs\n",
        "b.fly()\n"
      ],
      "metadata": {
        "colab": {
          "base_uri": "https://localhost:8080/"
        },
        "id": "cOcFBoQrcsw1",
        "outputId": "38ff38ab-eed6-4f78-afe3-a5a0262cf99c"
      },
      "execution_count": 13,
      "outputs": [
        {
          "output_type": "stream",
          "name": "stdout",
          "text": [
            "Animal created\n",
            "Animal created\n",
            "Birds can fly\n"
          ]
        }
      ]
    },
    {
      "cell_type": "code",
      "source": [],
      "metadata": {
        "id": "dsCAl4aEeTfa"
      },
      "execution_count": 17,
      "outputs": []
    }
  ]
}