{
  "nbformat": 4,
  "nbformat_minor": 0,
  "metadata": {
    "colab": {
      "provenance": [],
      "authorship_tag": "ABX9TyMmQXzGUq4VXWjR/o0AXvVS",
      "include_colab_link": true
    },
    "kernelspec": {
      "name": "python3",
      "display_name": "Python 3"
    },
    "language_info": {
      "name": "python"
    }
  },
  "cells": [
    {
      "cell_type": "markdown",
      "metadata": {
        "id": "view-in-github",
        "colab_type": "text"
      },
      "source": [
        "<a href=\"https://colab.research.google.com/github/JulianaGeyer-Kim/Project-1/blob/main/Deposit_with_Interest_Rates_problems.ipynb\" target=\"_parent\"><img src=\"https://colab.research.google.com/assets/colab-badge.svg\" alt=\"Open In Colab\"/></a>"
      ]
    },
    {
      "cell_type": "code",
      "execution_count": null,
      "metadata": {
        "id": "y-1LI_XQ5Pbh"
      },
      "outputs": [],
      "source": [
        "customer_type = input('Enter customer type (n: new, e: existing): ')\n",
        "deposit = (float(input)('enter deposit amount'))\n",
        "\n",
        "if customer_type == 'e' :\n",
        "  if(deposit > 1000):\n",
        "    ir = 3.5\n",
        "\n",
        "  elif deposit > 10000:\n",
        "    ir = 3.0\n",
        "\n",
        "  else:\n",
        "   ir = 3.8\n",
        "else:\n",
        "  ir = 3.0\n",
        "\n",
        "\n",
        "total = (1+ ir/100) * deposit\n",
        "\n",
        "print(f'deposit at the end of the year: {round[total, 2]}')\n",
        "\n"
      ]
    },
    {
      "cell_type": "code",
      "source": [
        "x = int(input())\n",
        "if x % 2 == 0:\n",
        "  print('Even')\n",
        "\n",
        "else:\n",
        "  print('Odd')\n",
        "\n",
        "#remember indent is necessary after if/else statement, and semicolon after if/else\n",
        "\n",
        "# deposit > 10,000.     int rate = 3.5%\n",
        "# 1,000 < deposit int =.\n",
        "\n",
        "deposit = float(input('enter the deposit amount: '))\n",
        "\n",
        "if deposit > 10000:\n",
        "  ir = 3.5\n",
        "\n",
        "elif deposit <= 10000:\n",
        " ir = 3.0\n",
        "\n",
        "total = (1+ ir/100) * deposit\n",
        "\n",
        "print(f'deposit at the end of the year: (round(total, 2)')\n",
        "#round--rounds numbers, 2 is 2 decimal points\n"
      ],
      "metadata": {
        "id": "OlH7vFkq6CJi"
      },
      "execution_count": null,
      "outputs": []
    }
  ]
}