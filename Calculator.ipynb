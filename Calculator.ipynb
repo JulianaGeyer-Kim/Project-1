{
  "nbformat": 4,
  "nbformat_minor": 0,
  "metadata": {
    "colab": {
      "provenance": [],
      "authorship_tag": "ABX9TyN04KCskX45chuFNX8nvP+5",
      "include_colab_link": true
    },
    "kernelspec": {
      "name": "python3",
      "display_name": "Python 3"
    },
    "language_info": {
      "name": "python"
    }
  },
  "cells": [
    {
      "cell_type": "markdown",
      "metadata": {
        "id": "view-in-github",
        "colab_type": "text"
      },
      "source": [
        "<a href=\"https://colab.research.google.com/github/JulianaGeyer-Kim/Project-1/blob/main/Calculator.ipynb\" target=\"_parent\"><img src=\"https://colab.research.google.com/assets/colab-badge.svg\" alt=\"Open In Colab\"/></a>"
      ]
    },
    {
      "cell_type": "code",
      "execution_count": null,
      "metadata": {
        "id": "2l-Ydhue1kps"
      },
      "outputs": [],
      "source": [
        "'''\n",
        "BREAK: when statement becomes true, and you hit a break, it exits the if statement and goes to the first line out of the loop\n",
        "CONTINUE: when statement becomes true, and you hit continue, it exits the if statement and goes back to the beginning\n",
        "'''\n",
        "while True:\n",
        "  print(\"Type break to exit\")\n",
        "  print(\"Type true to continue\")\n",
        "\n",
        "  user_choice1 = float(input(\"Number 1: \"))\n",
        "  user_choice2 = float(input(\"Number 2: \"))\n",
        "  operator = input(\"Operator: \")\n",
        "\n",
        "  if operator == \"break\":\n",
        "    break\n",
        "\n",
        "  elif operator == \"true\":\n",
        "    continue\n",
        "\n",
        "  elif operator == \"+\":\n",
        "    result = user_choice1 + user_choice2\n",
        "    print(\"Result: \", result)\n",
        "\n",
        "  elif operator == \"-\":\n",
        "   result = user_choice1 - user_choice2\n",
        "   print(\"Result: \" , result)\n",
        "\n",
        "  elif operator == \"*\":\n",
        "   result = user_choice1 * user_choice2\n",
        "   print(\"Result: \" , result)\n",
        "\n",
        "  elif operator == \"/\":\n",
        "   result = user_choice1 / user_choice2\n",
        "   print(\"Result: \" , result)\n",
        "\n",
        "  elif operator == \"//\":\n",
        "   result = user_choice1 // user_choice2\n",
        "   print(\"Result: \" , result)\n",
        "\n",
        "  elif operator == \"%\":\n",
        "   result = user_choice1 % user_choice2\n",
        "   print(\"Result: \" , result)\n",
        "\n",
        "  elif operator == \"**\":\n",
        "   result = user_choice1 ** user_choice2\n",
        "   print(\"Result: \" , result)\n",
        "\n",
        "  else:\n",
        "    print(\"no answer\", operator)\n",
        "    continue\n",
        "\n",
        "  print(f\"the equation is: {user_choice1} {operator} {user_choice2}\")\n",
        "  print(f\"the result is: {result}\")\n",
        "\n",
        "\n"
      ]
    }
  ]
}