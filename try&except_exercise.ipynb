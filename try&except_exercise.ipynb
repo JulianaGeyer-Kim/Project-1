{
  "nbformat": 4,
  "nbformat_minor": 0,
  "metadata": {
    "colab": {
      "provenance": [],
      "authorship_tag": "ABX9TyOKfuvD9LsgQnIsRZPD64PM",
      "include_colab_link": true
    },
    "kernelspec": {
      "name": "python3",
      "display_name": "Python 3"
    },
    "language_info": {
      "name": "python"
    }
  },
  "cells": [
    {
      "cell_type": "markdown",
      "metadata": {
        "id": "view-in-github",
        "colab_type": "text"
      },
      "source": [
        "<a href=\"https://colab.research.google.com/github/JulianaGeyer-Kim/Project-1/blob/main/try%26except_exercise.ipynb\" target=\"_parent\"><img src=\"https://colab.research.google.com/assets/colab-badge.svg\" alt=\"Open In Colab\"/></a>"
      ]
    },
    {
      "cell_type": "code",
      "execution_count": 19,
      "metadata": {
        "colab": {
          "base_uri": "https://localhost:8080/"
        },
        "id": "L_bQKYV6TLl4",
        "outputId": "d3989611-05f3-4dea-c991-fc039197e46b"
      },
      "outputs": [
        {
          "output_type": "stream",
          "name": "stdout",
          "text": [
            "2.0\n"
          ]
        }
      ],
      "source": [
        "\n",
        "\n",
        "def avg(alist):\n",
        "\n",
        "  try:\n",
        "    return sum(alist)/len(alist)\n",
        "    output = float(input(\"Give me a value from the list \"))\n",
        "    print(alist[output])\n",
        "\n",
        "  except ValueError:\n",
        "    print('invalid input')\n",
        "  except ZeroDivisionError:\n",
        "    print('value cannot be divided by zero')\n",
        "\n",
        "    return [] #you have to print something that does not make sense so the except function can be used\n",
        "  except TypeError:\n",
        "    print('invalid input')\n",
        "    return float('nan')\n",
        "\n",
        " # except NameError:\n",
        "  #  print('unkown error')\n",
        "\n",
        "\n",
        "a = avg([1,2,3])\n",
        "print(a)\n"
      ]
    },
    {
      "cell_type": "markdown",
      "source": [
        "- try & except are mandatory key words when handling errors\n",
        "- **else** and **finally** are optional key words when handling errors\n",
        "- **else** and **finally** are used to verify that everything went well and is complete\n",
        "- else is not related to conditionals--> it will only be executed if there are no errors within the code\n",
        "- finally will execute no matter what\n"
      ],
      "metadata": {
        "id": "lKAOiheZZfCb"
      }
    },
    {
      "cell_type": "code",
      "source": [
        "l = [1,3,6,8,7,9]\n",
        "\n",
        "try:\n",
        "  idx = int(input('Enter an index'))\n",
        "  print(l[idx])\n",
        "except IndexError:\n",
        "  print('Index given out of bounds')\n",
        "except ValueError:\n",
        "  print('invalid input')\n",
        "else:\n",
        "  print(\"item found!\")\n",
        "finally:\n",
        "  print('this message will always be displayed')\n",
        "\n"
      ],
      "metadata": {
        "colab": {
          "base_uri": "https://localhost:8080/"
        },
        "id": "NBv_k9jAZeDj",
        "outputId": "fab7346e-0968-4dc4-8213-0393cd13032e"
      },
      "execution_count": 22,
      "outputs": [
        {
          "output_type": "stream",
          "name": "stdout",
          "text": [
            "Enter an index4\n",
            "7\n",
            "item found!\n",
            "this message will always be displayed\n"
          ]
        }
      ]
    }
  ]
}