{
  "nbformat": 4,
  "nbformat_minor": 0,
  "metadata": {
    "colab": {
      "provenance": [],
      "authorship_tag": "ABX9TyNDBJHWZYVp2AmArQZLvTCu",
      "include_colab_link": true
    },
    "kernelspec": {
      "name": "python3",
      "display_name": "Python 3"
    },
    "language_info": {
      "name": "python"
    }
  },
  "cells": [
    {
      "cell_type": "markdown",
      "metadata": {
        "id": "view-in-github",
        "colab_type": "text"
      },
      "source": [
        "<a href=\"https://colab.research.google.com/github/JulianaGeyer-Kim/Project-1/blob/main/Rock_paper_scissors_exercise.ipynb\" target=\"_parent\"><img src=\"https://colab.research.google.com/assets/colab-badge.svg\" alt=\"Open In Colab\"/></a>"
      ]
    },
    {
      "cell_type": "code",
      "source": [
        "\n",
        "import random\n",
        "\n",
        "user_choice = input(\"Enter your choice (rock, paper, or scissors)\")\n",
        "computer_choice = random.choice([\"rock\", \"paper\", \"scissors\"])\n",
        "#step 1) create objects for the user and computer\n",
        "\n",
        "#step 2) print out the choices for the user and computer using f strings\n",
        "\n",
        "print(f\"the user chooses {user_choice}\")\n",
        "print(f\"the computer chooses {computer_choice}\")\n",
        "\n",
        "\n",
        "#step 3) if statement if there is a tie\n",
        "if user_choice == computer_choice:\n",
        "  print(\"its a tie\")\n",
        "\n",
        "#step 4) if statement if there is a tie\n",
        "elif user_choice == \"rock\" and computer_choice == \"paper\":\n",
        "  print(\"computer wins\")\n",
        "\n",
        "elif  (\n",
        "    (user_choice == \"rock\" and computer_choice == \"scissors\") or\n",
        "    (user_choice == \"paper\" and computer_choice == \"rock\") or\n",
        "    (user_choice == \"scissors\" and computer_choice == \"paper\")\n",
        "      ):\n",
        "  print(\"user wins!\")\n",
        "\n",
        "else:\n",
        "  print(\"computer wins\")\n",
        "\n"
      ],
      "metadata": {
        "colab": {
          "base_uri": "https://localhost:8080/"
        },
        "id": "lZZl_m1m5EqE",
        "outputId": "9de97371-37f9-49b1-844c-394bb95fa2b4"
      },
      "execution_count": null,
      "outputs": [
        {
          "output_type": "stream",
          "name": "stdout",
          "text": [
            "Enter your choice (rock, paper, or scissors)rock\n",
            "the user chooses rock\n",
            "the copmuter chooses scissors\n",
            "user wins!\n"
          ]
        }
      ]
    },
    {
      "cell_type": "code",
      "source": [
        "''''\n",
        "below are the steps for a program that takes a year as input and decides whether it's a leap year or not:\n",
        "\n",
        "If the year is evenly divisible by 4, go to step 2. Otherwise, go to step 5.\n",
        "If the year is evenly divisible by 100, go to step 3. Otherwise, go to step 4.\n",
        "If the year is evenly divisible by 400, go to step 4. Otherwise, go to step 5.\n",
        "The year is a leap year (it has 366 days).\n",
        "The year is not a leap year (it has 365 days).\n",
        "'''\n",
        "\n",
        "import random\n",
        "\n",
        "\n",
        "year_input = random.randint(2000, 2004)\n",
        "\n",
        "print(f\"the year is: {year_input}\")\n",
        "\n",
        "#step 1\n",
        "if year_input % 4 == 0:\n",
        "#step 2\n",
        "  if year_input % 100 == 0:\n",
        "#step 3\n",
        "    if year_input % 400 == 0:\n",
        "#step 4\n",
        "      print(f\"{year_input} is a leap year\")\n",
        "#step 5\n",
        "    else:\n",
        "      print(f\"{year_input} is not a leap year\")\n",
        "\n",
        "\n",
        "  else: #this line of code is connected to \"if\" statement on step 2 because of the way it is indented\n",
        "    print(f\"{year_input} is a leap year\")\n",
        "\n",
        "else: #this line of code is connected to \"if\" statement on step 1 because of the way it is indented, the if and else are ALIGNED\n",
        "  print(f\"{year_input} is not a leap year\")\n",
        "\n",
        "\n",
        "\n",
        "\n",
        "\n",
        "\n",
        "\n"
      ],
      "metadata": {
        "colab": {
          "base_uri": "https://localhost:8080/"
        },
        "id": "M2HWzrB59b9U",
        "outputId": "a7438199-82f4-47db-c66c-fbbff277a5ac"
      },
      "execution_count": null,
      "outputs": [
        {
          "output_type": "stream",
          "name": "stdout",
          "text": [
            "the year is: 2019\n",
            "2019 is not a leap year\n"
          ]
        }
      ]
    }
  ]
}
