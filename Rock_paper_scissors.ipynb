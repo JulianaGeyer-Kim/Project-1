{
  "nbformat": 4,
  "nbformat_minor": 0,
  "metadata": {
    "colab": {
      "provenance": [],
      "authorship_tag": "ABX9TyNDBJHWZYVp2AmArQZLvTCu",
      "include_colab_link": true
    },
    "kernelspec": {
      "name": "python3",
      "display_name": "Python 3"
    },
    "language_info": {
      "name": "python"
    }
  },
  "cells": [
    {
      "cell_type": "markdown",
      "metadata": {
        "id": "view-in-github",
        "colab_type": "text"
      },
      "source": [
        "<a href=\"https://colab.research.google.com/github/JulianaGeyer-Kim/Project-1/blob/main/Rock_paper_scissors_exercise.ipynb\" target=\"_parent\"><img src=\"https://colab.research.google.com/assets/colab-badge.svg\" alt=\"Open In Colab\"/></a>"
      ]
    },
    {
      "cell_type": "code",
      "source": [
        "\n",
        "import random\n",
        "\n",
        "user_choice = input(\"Enter your choice (rock, paper, or scissors)\")\n",
        "computer_choice = random.choice([\"rock\", \"paper\", \"scissors\"])\n",
        "#step 1) create objects for the user and computer\n",
        "\n",
        "#step 2) print out the choices for the user and computer using f strings\n",
        "\n",
        "print(f\"the user chooses {user_choice}\")\n",
        "print(f\"the computer chooses {computer_choice}\")\n",
        "\n",
        "\n",
        "#step 3) if statement if there is a tie\n",
        "if user_choice == computer_choice:\n",
        "  print(\"its a tie\")\n",
        "\n",
        "#step 4) if statement if there is a tie\n",
        "elif user_choice == \"rock\" and computer_choice == \"paper\":\n",
        "  print(\"computer wins\")\n",
        "\n",
        "elif  (\n",
        "    (user_choice == \"rock\" and computer_choice == \"scissors\") or\n",
        "    (user_choice == \"paper\" and computer_choice == \"rock\") or\n",
        "    (user_choice == \"scissors\" and computer_choice == \"paper\")\n",
        "      ):\n",
        "  print(\"user wins!\")\n",
        "\n",
        "else:\n",
        "  print(\"computer wins\")\n",
        "\n"
      ],
      "metadata": {
        "colab": {
          "base_uri": "https://localhost:8080/"
        },
        "id": "lZZl_m1m5EqE",
        "outputId": "9de97371-37f9-49b1-844c-394bb95fa2b4"
      },
      "execution_count": null,
      "outputs": [
        {
          "output_type": "stream",
          "name": "stdout",
          "text": [
            "Enter your choice (rock, paper, or scissors)rock\n",
            "the user chooses rock\n",
            "the copmuter chooses scissors\n",
            "user wins!\n"
          ]
        }
      ]
    }
    
