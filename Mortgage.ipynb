{
  "nbformat": 4,
  "nbformat_minor": 0,
  "metadata": {
    "colab": {
      "provenance": [],
      "authorship_tag": "ABX9TyO0ODf4Rmum1uXAtgAFnQ2C",
      "include_colab_link": true
    },
    "kernelspec": {
      "name": "python3",
      "display_name": "Python 3"
    },
    "language_info": {
      "name": "python"
    }
  },
  "cells": [
    {
      "cell_type": "markdown",
      "metadata": {
        "id": "view-in-github",
        "colab_type": "text"
      },
      "source": [
        "<a href=\"https://colab.research.google.com/github/JulianaGeyer-Kim/Project-1/blob/main/Mortgage.ipynb\" target=\"_parent\"><img src=\"https://colab.research.google.com/assets/colab-badge.svg\" alt=\"Open In Colab\"/></a>"
      ]
    },
    {
      "cell_type": "code",
      "execution_count": null,
      "metadata": {
        "id": "HOIA8hQcuTnf"
      },
      "outputs": [],
      "source": [
        "'''\n",
        "this code creates the class Mortgage, creates its constructor and establishes parameters,\n",
        "initializes them, and creates the method payment, which calculates the mortgage payment\n",
        "'''\n",
        "\n",
        "class Mortgage:\n",
        "  def __innit__(self, initialLoan, Term, InterestRate):\n",
        "    self.initialLoan = initialLoan #initializes\n",
        "    self.Term = Term\n",
        "    self.__InterestRate = InterestRate\n",
        "\n",
        "    m = Mortgage(100,000, 30, 6)\n",
        "\n",
        "def get_interest(self): #get_ is customary, but not necessary for a method\n",
        "  return self.__interest\n",
        "\n",
        "def set_interest(self,newInterest): #set is used to update the value of an atttribute\n",
        "  self.__interest = newInterest\n",
        "  if set_interest >= 0:\n",
        "    self.__interest = newInterest\n",
        "  else:\n",
        "    print(\"interest must be negative\")\n",
        "\n",
        "\n",
        "  #m.payment(5) #this will update interest value by 5!!!\n",
        "  #m.get_interest() #private!!!!\n",
        "\n",
        "def payment(self):\n",
        "  B = self.initialLoan\n",
        "  N = self.Term * 12\n",
        "  R = self.InterestRate / 100\n",
        "  return B(R(1 + R) ** N) / ((1 + R) ** N -1)\n",
        "\n",
        "  i.initialLoan = 100,000\n",
        "  t.Term = 30\n",
        "  r.InterestRate = .06\n",
        "\n",
        "\n",
        "#str method must always go after the constructor, but the exact placement does not matter\n",
        "def __str__(self):\n",
        "    return \"Initial Loan amount = \", + \"\" [self.initialLoan]\n",
        "    return \"Maturity Term = \", + [self.Term]\n",
        "    return \"Interest Rate = \", + [self.InterestRate]"
      ]
    }
  ]
}