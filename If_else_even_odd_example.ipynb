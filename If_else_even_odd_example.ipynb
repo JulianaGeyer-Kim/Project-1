{
  "nbformat": 4,
  "nbformat_minor": 0,
  "metadata": {
    "colab": {
      "provenance": [],
      "authorship_tag": "ABX9TyO2iWb7Kp77QBRJzZOq/kDj",
      "include_colab_link": true
    },
    "kernelspec": {
      "name": "python3",
      "display_name": "Python 3"
    },
    "language_info": {
      "name": "python"
    }
  },
  "cells": [
    {
      "cell_type": "markdown",
      "metadata": {
        "id": "view-in-github",
        "colab_type": "text"
      },
      "source": [
        "<a href=\"https://colab.research.google.com/github/JulianaGeyer-Kim/Project-1/blob/main/If_else_even_odd_example.ipynb\" target=\"_parent\"><img src=\"https://colab.research.google.com/assets/colab-badge.svg\" alt=\"Open In Colab\"/></a>"
      ]
    },
    {
      "cell_type": "code",
      "execution_count": null,
      "metadata": {
        "colab": {
          "base_uri": "https://localhost:8080/"
        },
        "id": "dJCS5-3-tMAx",
        "outputId": "8dcc3a0e-1bfa-4b72-9892-67e71796382c"
      },
      "outputs": [
        {
          "output_type": "stream",
          "name": "stdout",
          "text": [
            "5\n",
            "Odd\n"
          ]
        }
      ],
      "source": [
        "x = int(input(''))\n",
        "if x % 2 == 0:\n",
        "  print('Even')\n",
        "\n",
        "else:\n",
        "  print('Odd')\n",
        "\n",
        "#remember indent is necessary after if/else statement, and semicolon after if/else"
      ]
    },
    {
      "cell_type": "code",
      "source": [
        "# deposit > 10,000.     int rate = 3.5%\n",
        "# 1,000 < deposit int =.\n",
        "\n",
        "deposit = float(input('enter the deposit amount: '))\n",
        "\n",
        "if deposit > 10000:\n",
        "  ir = 3.5\n",
        "\n",
        "elif deposit <= 10000:\n",
        " ir = 3.0\n",
        "\n",
        "total = (1+ ir/100) * deposit\n",
        "\n",
        "print(f'deposit at the end of the year: (round(total, 2)')\n",
        "#round--rounds numbers, 2 is 2 decimal points\n",
        "\n"
      ],
      "metadata": {
        "colab": {
          "base_uri": "https://localhost:8080/"
        },
        "id": "tQ1a77-ru3av",
        "outputId": "c929ecc9-9b87-429f-db5a-7895b28e4553"
      },
      "execution_count": null,
      "outputs": [
        {
          "output_type": "stream",
          "name": "stdout",
          "text": [
            "enter the deposit amount: 2349\n",
            "deposit at the end of the year: (round(total, 2)\n"
          ]
        }
      ]
    },
    {
      "cell_type": "code",
      "source": [
        "customer_type = input('Enter customer type (n: new, e: existing): ')\n",
        "deposit = (float(input)('enter deposit amount'))\n",
        "\n",
        "if customer_type == 'e' :\n",
        "  if(deposit > 1000):\n",
        "    ir = 3.5\n",
        "\n",
        "  elif deposit > 10000:\n",
        "    ir = 3.0\n",
        "\n",
        "  else:\n",
        "   ir = 3.8\n",
        "else:\n",
        "  ir = 3.0\n",
        "\n",
        "\n",
        "total = (1+ ir/100) * deposit\n",
        "\n",
        "print(f'deposit at the end of the year: (round(total, 2)')\n",
        "\n"
      ],
      "metadata": {
        "colab": {
          "base_uri": "https://localhost:8080/",
          "height": 259
        },
        "id": "Z9y9o6NI0Df-",
        "outputId": "66b1f9f1-4f35-419a-9007-6e59efe63d4c"
      },
      "execution_count": null,
      "outputs": [
        {
          "name": "stdout",
          "output_type": "stream",
          "text": [
            "Enter customer type (n: new, e: existing): 45783\n"
          ]
        },
        {
          "output_type": "error",
          "ename": "TypeError",
          "evalue": "float() argument must be a string or a real number, not 'method'",
          "traceback": [
            "\u001b[0;31m---------------------------------------------------------------------------\u001b[0m",
            "\u001b[0;31mTypeError\u001b[0m                                 Traceback (most recent call last)",
            "\u001b[0;32m<ipython-input-14-3f87d41a0205>\u001b[0m in \u001b[0;36m<cell line: 2>\u001b[0;34m()\u001b[0m\n\u001b[1;32m      1\u001b[0m \u001b[0mcustomer_type\u001b[0m \u001b[0;34m=\u001b[0m \u001b[0minput\u001b[0m\u001b[0;34m(\u001b[0m\u001b[0;34m'Enter customer type (n: new, e: existing): '\u001b[0m\u001b[0;34m)\u001b[0m\u001b[0;34m\u001b[0m\u001b[0;34m\u001b[0m\u001b[0m\n\u001b[0;32m----> 2\u001b[0;31m \u001b[0mdeposit\u001b[0m \u001b[0;34m=\u001b[0m \u001b[0;34m(\u001b[0m\u001b[0mfloat\u001b[0m\u001b[0;34m(\u001b[0m\u001b[0minput\u001b[0m\u001b[0;34m)\u001b[0m\u001b[0;34m(\u001b[0m\u001b[0;34m'enter deposit amount'\u001b[0m\u001b[0;34m)\u001b[0m\u001b[0;34m)\u001b[0m\u001b[0;34m\u001b[0m\u001b[0;34m\u001b[0m\u001b[0m\n\u001b[0m\u001b[1;32m      3\u001b[0m \u001b[0;34m\u001b[0m\u001b[0m\n\u001b[1;32m      4\u001b[0m \u001b[0;32mif\u001b[0m \u001b[0mcustomer_type\u001b[0m \u001b[0;34m==\u001b[0m \u001b[0;34m'e'\u001b[0m \u001b[0;34m:\u001b[0m\u001b[0;34m\u001b[0m\u001b[0;34m\u001b[0m\u001b[0m\n\u001b[1;32m      5\u001b[0m   \u001b[0;32mif\u001b[0m\u001b[0;34m(\u001b[0m\u001b[0mdeposit\u001b[0m \u001b[0;34m>\u001b[0m \u001b[0;36m1000\u001b[0m\u001b[0;34m)\u001b[0m\u001b[0;34m:\u001b[0m\u001b[0;34m\u001b[0m\u001b[0;34m\u001b[0m\u001b[0m\n",
            "\u001b[0;31mTypeError\u001b[0m: float() argument must be a string or a real number, not 'method'"
          ]
        }
      ]
    },
    {
      "cell_type": "code",
      "source": [
        "if x%2 == 0: # <-- first checks if x%2 equals to zero\n",
        "    if x%3 == 0: # <-- if x%2 indeed equals to zero, then checks if x%3 is also zero\n",
        "        print('Divisible by 2 and 3')\n",
        "    else:\n",
        "        print('Divisible by 2 and not by 3')\n",
        "elif x%3 == 0:\n",
        "    print('Divisible by 3 and not by 2')\n",
        "else:\n",
        "    print('Not divisible by either 2 or 3')"
      ],
      "metadata": {
        "colab": {
          "base_uri": "https://localhost:8080/"
        },
        "id": "Sdq3-TiX2fch",
        "outputId": "4f0e2a69-da8d-4b60-b25a-98e0dacec99b"
      },
      "execution_count": null,
      "outputs": [
        {
          "output_type": "stream",
          "name": "stdout",
          "text": [
            "Not divisible by either 2 or 3\n"
          ]
        }
      ]
    }
  ]
}