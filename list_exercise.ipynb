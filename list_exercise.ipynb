{
  "nbformat": 4,
  "nbformat_minor": 0,
  "metadata": {
    "colab": {
      "provenance": [],
      "authorship_tag": "ABX9TyN49i7D4CPu6ehv669Fw51K",
      "include_colab_link": true
    },
    "kernelspec": {
      "name": "python3",
      "display_name": "Python 3"
    },
    "language_info": {
      "name": "python"
    }
  },
  "cells": [
    {
      "cell_type": "markdown",
      "metadata": {
        "id": "view-in-github",
        "colab_type": "text"
      },
      "source": [
        "<a href=\"https://colab.research.google.com/github/JulianaGeyer-Kim/Project-1/blob/main/list_exercise.ipynb\" target=\"_parent\"><img src=\"https://colab.research.google.com/assets/colab-badge.svg\" alt=\"Open In Colab\"/></a>"
      ]
    },
    {
      "cell_type": "code",
      "execution_count": null,
      "metadata": {
        "id": "mjvmAL36SrDX"
      },
      "outputs": [],
      "source": [
        "'''asks input from the keyboard\n",
        "\n",
        "while not zero, input is appended to the list\n",
        "\n",
        "this will happen until value is zero. once zero, process terminate'\n",
        "\n",
        "'''\n",
        "\n",
        "L = []\n",
        "\n",
        "number = int(input(\"Enter a value  \"))\n",
        "\n",
        "while number != 0:\n",
        "  L.append(number)\n",
        "  number = int(input(\"Enter a value  \"))\n",
        "print(L)\n",
        "\n",
        "\n"
      ]
    }
  ]
}