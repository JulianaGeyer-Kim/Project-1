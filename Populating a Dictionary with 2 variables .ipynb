{
  "nbformat": 4,
  "nbformat_minor": 0,
  "metadata": {
    "colab": {
      "provenance": [],
      "authorship_tag": "ABX9TyPFupkB9pOZWTLzFq49bD5I",
      "include_colab_link": true
    },
    "kernelspec": {
      "name": "python3",
      "display_name": "Python 3"
    },
    "language_info": {
      "name": "python"
    }
  },
  "cells": [
    {
      "cell_type": "markdown",
      "metadata": {
        "id": "view-in-github",
        "colab_type": "text"
      },
      "source": [
        "<a href=\"https://colab.research.google.com/github/JulianaGeyer-Kim/Project-1/blob/main/Dictionaries.ipynb\" target=\"_parent\"><img src=\"https://colab.research.google.com/assets/colab-badge.svg\" alt=\"Open In Colab\"/></a>"
      ]
    },
    {
      "cell_type": "code",
      "execution_count": 7,
      "metadata": {
        "id": "ci8iWSgS9e_A"
      },
      "outputs": [],
      "source": [
        "grades = {\n",
        "    'Alice' : 91,\n",
        "    'Bob': 88,\n",
        "    'Tracy': 93,\n",
        "    'Erik': 90\n",
        "    #keys are immutable and unique, duplicate keys do not exist\n",
        "          }"
      ]
    },
    {
      "cell_type": "code",
      "source": [
        "\n",
        "del grades ['Alice']\n",
        "grades\n"
      ],
      "metadata": {
        "colab": {
          "base_uri": "https://localhost:8080/"
        },
        "id": "VfpWHOgA-D0n",
        "outputId": "c6483b09-858d-4294-ba02-7314da0eff3b"
      },
      "execution_count": 8,
      "outputs": [
        {
          "output_type": "execute_result",
          "data": {
            "text/plain": [
              "{'Bob': 88, 'Tracy': 93, 'Erik': 90}"
            ]
          },
          "metadata": {},
          "execution_count": 8
        }
      ]
    },
    {
      "cell_type": "code",
      "source": [
        "'''\n",
        "dot method\n",
        "\n",
        "key method----- key()\n",
        "values()---returns list of all of the values in the dictionary\n",
        "items()---returns both lists of keys and values at the same time\n",
        "'''\n",
        "\n",
        "for key in grades.keys():\n",
        "  print(key)\n",
        "\n",
        "\n",
        "for value in grades.values():\n",
        "  print(value)\n",
        "\n",
        "for key, value in grades.items():\n",
        "  print(key, value)\n",
        "\n",
        "\n",
        "#print{f'Key: {key}, Value: {Value}} ----> check parenthesis"
      ],
      "metadata": {
        "colab": {
          "base_uri": "https://localhost:8080/"
        },
        "id": "zjPLL3ps-zBC",
        "outputId": "c650eb41-c9b6-4404-bd7f-e262369f1d30"
      },
      "execution_count": 14,
      "outputs": [
        {
          "output_type": "stream",
          "name": "stdout",
          "text": [
            "Bob\n",
            "Tracy\n",
            "Erik\n",
            "88\n",
            "93\n",
            "90\n",
            "Bob 88\n",
            "Tracy 93\n",
            "Erik 90\n"
          ]
        }
      ]
    },
    {
      "cell_type": "code",
      "source": [
        "months = (1.0: \"January\", 2: \"Febuary\", 3: \"March\")\n",
        "\n",
        "print(f'The first month in a year is (months[1])')"
      ],
      "metadata": {
        "colab": {
          "base_uri": "https://localhost:8080/",
          "height": 105
        },
        "id": "zD-kJfFOBl8F",
        "outputId": "5c525458-9f24-4e73-e516-5d420aa98438"
      },
      "execution_count": 17,
      "outputs": [
        {
          "output_type": "error",
          "ename": "SyntaxError",
          "evalue": "invalid syntax (<ipython-input-17-504dca8e1c85>, line 1)",
          "traceback": [
            "\u001b[0;36m  File \u001b[0;32m\"<ipython-input-17-504dca8e1c85>\"\u001b[0;36m, line \u001b[0;32m1\u001b[0m\n\u001b[0;31m    months = (1.0: \"January\", 2: \"Febuary\", 3: \"March\")\u001b[0m\n\u001b[0m                 ^\u001b[0m\n\u001b[0;31mSyntaxError\u001b[0m\u001b[0;31m:\u001b[0m invalid syntax\n"
          ]
        }
      ]
    },
    {
      "cell_type": "code",
      "source": [
        "1 ==1.0"
      ],
      "metadata": {
        "colab": {
          "base_uri": "https://localhost:8080/"
        },
        "id": "7pb-YC8iCLc9",
        "outputId": "f38667ec-fbe0-441b-f0f1-679f9a3d9f20"
      },
      "execution_count": 18,
      "outputs": [
        {
          "output_type": "execute_result",
          "data": {
            "text/plain": [
              "True"
            ]
          },
          "metadata": {},
          "execution_count": 18
        }
      ]
    },
    {
      "cell_type": "code",
      "source": [
        "months = {} #this is an empty dictionary\n",
        "\n",
        "#use a for loop, where on each iteration, add a new key value to months\n",
        "\n",
        "numbers = [1,2,3,4,5,6,7,8,9,10,11,12] #keys\n",
        "\n",
        "names = [\"Jan\", \"Feb \", \"March\", \"April\", \"May\", \"June\", \"July\", \"Aug\", \"Sept\", \"Oct\", \"Nov\", \"Dec\"] #values\n",
        "\n",
        "\n",
        "#months[] = names\n",
        "\n",
        "for num in range(1, 13, 1):\n",
        "  months[num] = names[num - 1]\n",
        "print(months)\n",
        "\n",
        "\n",
        "#for numbers, names in months.items(): ---> THERE ARE NO KEYS, ITEMS, SINCE IT IS AN EMPTY DICTIONARY\n",
        " # print(numbers, names)\n",
        "\n"
      ],
      "metadata": {
        "colab": {
          "base_uri": "https://localhost:8080/"
        },
        "id": "57C-Kd06CU3j",
        "outputId": "4a10fdc3-07bf-4ef8-d1c8-c18553a7877a"
      },
      "execution_count": 28,
      "outputs": [
        {
          "output_type": "stream",
          "name": "stdout",
          "text": [
            "{1: 'Jan', 2: 'Feb ', 3: 'March', 4: 'April', 5: 'May', 6: 'June', 7: 'July', 8: 'Aug', 9: 'Sept', 10: 'Oct', 11: 'Nov', 12: 'Dec'}\n"
          ]
        }
      ]
    }
  ]
}
