{
  "nbformat": 4,
  "nbformat_minor": 0,
  "metadata": {
    "colab": {
      "provenance": [],
      "authorship_tag": "ABX9TyNeQnWm/xDui+KEde4cLa9M",
      "include_colab_link": true
    },
    "kernelspec": {
      "name": "python3",
      "display_name": "Python 3"
    },
    "language_info": {
      "name": "python"
    }
  },
  "cells": [
    {
      "cell_type": "markdown",
      "metadata": {
        "id": "view-in-github",
        "colab_type": "text"
      },
      "source": [
        "<a href=\"https://colab.research.google.com/github/JulianaGeyer-Kim/Project-1/blob/main/Parking_Garage.ipynb\" target=\"_parent\"><img src=\"https://colab.research.google.com/assets/colab-badge.svg\" alt=\"Open In Colab\"/></a>"
      ]
    },
    {
      "cell_type": "code",
      "execution_count": 4,
      "metadata": {
        "id": "EdFfgpn2qy03",
        "colab": {
          "base_uri": "https://localhost:8080/"
        },
        "outputId": "65e63a3b-7997-4fc8-92f0-fa0ae4480435"
      },
      "outputs": [
        {
          "output_type": "stream",
          "name": "stdout",
          "text": [
            "Enter the numbers of hours parked44\n",
            "20\n"
          ]
        }
      ],
      "source": [
        "hours = int(input(\"Enter the numbers of hours parked\"))\n",
        "fee = 2.5 * hours\n",
        "if fee <= 6:\n",
        "  print(6)\n",
        "elif fee >= 20:\n",
        "    print(20)\n",
        "else:\n",
        "    print(fee)"
      ]
    },
    {
      "cell_type": "code",
      "source": [
        "def getParkingHours():\n",
        "  return int(input(\"Enter number of hours parked: \"))\n",
        "\n",
        "def calcParkingFee():\n",
        "  fee = 2.5 * getParkingHours()\n",
        "  if fee <= 6:\n",
        "      return 6\n",
        "  elif fee >= 20:\n",
        "      return 20\n",
        "  else:\n",
        "      return fee\n",
        "\n",
        "  fee = calcParkingFee()\n",
        "  print(f'Total Fee: ${fee}')\n"
      ],
      "metadata": {
        "id": "K4BDLKmKsVcX"
      },
      "execution_count": 6,
      "outputs": []
    }
  ]
}