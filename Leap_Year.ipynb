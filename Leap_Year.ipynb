{
  "nbformat": 4,
  "nbformat_minor": 0,
  "metadata": {
    "colab": {
      "provenance": [],
      "authorship_tag": "ABX9TyOqUBcN4r6swQ/zWdJCo72W",
      "include_colab_link": true
    },
    "kernelspec": {
      "name": "python3",
      "display_name": "Python 3"
    },
    "language_info": {
      "name": "python"
    }
  },
  "cells": [
    {
      "cell_type": "markdown",
      "metadata": {
        "id": "view-in-github",
        "colab_type": "text"
      },
      "source": [
        "<a href=\"https://colab.research.google.com/github/JulianaGeyer-Kim/Project-1/blob/main/Leap_Year.ipynb\" target=\"_parent\"><img src=\"https://colab.research.google.com/assets/colab-badge.svg\" alt=\"Open In Colab\"/></a>"
      ]
    },
    {
      "cell_type": "code",
      "execution_count": 1,
      "metadata": {
        "id": "9xx1TXQj7Sy7",
        "outputId": "7ffe82fe-ec0d-4210-f5c5-b22dfd1d2759",
        "colab": {
          "base_uri": "https://localhost:8080/"
        }
      },
      "outputs": [
        {
          "output_type": "stream",
          "name": "stdout",
          "text": [
            "the year is: 2003\n",
            "2003 is not a leap year\n"
          ]
        }
      ],
      "source": [
        "''''\n",
        "below are the steps for a program that takes a year as input and decides whether it's a leap year or not:\n",
        "\n",
        "If the year is evenly divisible by 4, go to step 2. Otherwise, go to step 5.\n",
        "If the year is evenly divisible by 100, go to step 3. Otherwise, go to step 4.\n",
        "If the year is evenly divisible by 400, go to step 4. Otherwise, go to step 5.\n",
        "The year is a leap year (it has 366 days).\n",
        "The year is not a leap year (it has 365 days).\n",
        "'''\n",
        "\n",
        "import random\n",
        "\n",
        "\n",
        "year_input = random.randint(2000, 2004)\n",
        "\n",
        "print(f\"the year is: {year_input}\")\n",
        "\n",
        "#step 1\n",
        "if year_input % 4 == 0:\n",
        "#step 2\n",
        "  if year_input % 100 == 0:\n",
        "#step 3\n",
        "    if year_input % 400 == 0:\n",
        "#step 4\n",
        "      print(f\"{year_input} is a leap year\")\n",
        "#step 5\n",
        "    else:\n",
        "      print(f\"{year_input} is not a leap year\")\n",
        "\n",
        "\n",
        "  else: #this line of code is connected to \"if\" statement on step 2 because of the way it is indented\n",
        "    print(f\"{year_input} is a leap year\")\n",
        "\n",
        "else: #this line of code is connected to \"if\" statement on step 1 because of the way it is indented, the if and else are ALIGNED\n",
        "  print(f\"{year_input} is not a leap year\")"
      ]
    }
  ]
}